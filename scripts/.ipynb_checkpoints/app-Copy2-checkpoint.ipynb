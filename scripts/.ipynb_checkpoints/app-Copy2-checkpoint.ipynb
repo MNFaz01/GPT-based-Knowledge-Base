{
 "cells": [
  {
   "cell_type": "code",
   "execution_count": 23,
   "id": "252b8ad7",
   "metadata": {},
   "outputs": [
    {
     "name": "stderr",
     "output_type": "stream",
     "text": [
      "detectron2 is not installed. Cannot use the hi_res partitioning strategy. Falling back to partitioning with the fast strategy.\n",
      "detectron2 is not installed. Cannot use the hi_res partitioning strategy. Falling back to partitioning with the fast strategy.\n",
      "detectron2 is not installed. Cannot use the hi_res partitioning strategy. Falling back to partitioning with the fast strategy.\n",
      "Using embedded DuckDB without persistence: data will be transient\n"
     ]
    }
   ],
   "source": [
    "import tkinter as tk\n",
    "from PyPDF2 import PdfReader\n",
    "from langchain.embeddings.openai import OpenAIEmbeddings\n",
    "from langchain.text_splitter import CharacterTextSplitter\n",
    "from langchain.vectorstores import FAISS\n",
    "from langchain.chains.question_answering import load_qa_chain\n",
    "from langchain.llms import OpenAI\n",
    "from langchain.chains import RetrievalQA\n",
    "from langchain.document_loaders import UnstructuredPDFLoader\n",
    "from langchain.indexes.vectorstore import VectorstoreIndexCreator\n",
    "from dotenv import load_dotenv\n",
    "import os\n",
    "\n",
    "# Load environment variables\n",
    "env_path = os.path.join(os.getcwd(), '.env')\n",
    "load_dotenv(dotenv_path=env_path)\n",
    "pdf_path = os.getenv('PDF_PATH_MULTIPLE')\n",
    "openai_api_key = os.getenv('OPENAI_API_KEY')\n",
    "model_name = os.getenv('MODEL_NAME')\n",
    "\n",
    "# Create index from PDFs\n",
    "loaders = [UnstructuredPDFLoader(os.path.join(pdf_path, fn)) for fn in os.listdir(pdf_path)]\n",
    "index = VectorstoreIndexCreator().from_loaders(loaders)\n",
    "\n",
    "# Define function to handle question input and display answer and source\n",
    "def handle_question():\n",
    "    question = question_entry.get()\n",
    "    result = index.query_with_sources(question)\n",
    "    answer_label.config(text=f\"Answer: {result['answer']}\")\n",
    "    source_label.config(text=f\"Source: {result['sources']}\")\n",
    "\n",
    "# Create Tkinter app window\n",
    "window = tk.Tk()\n",
    "window.title('Question and Answer')\n",
    "window.geometry('500x300')\n",
    "\n",
    "# Create question input box\n",
    "question_label = tk.Label(window, text='Enter your question:')\n",
    "question_label.pack()\n",
    "question_entry = tk.Entry(window, width=80)\n",
    "question_entry.pack()\n",
    "\n",
    "# Create button to submit question\n",
    "submit_button = tk.Button(window, text='Submit', command=handle_question)\n",
    "submit_button.pack()\n",
    "\n",
    "# Create label to display answer\n",
    "answer_label = tk.Label(window, text='', wraplength=400)\n",
    "answer_label.pack()\n",
    "\n",
    "# Create label to display source\n",
    "source_label = tk.Label(window, text='')\n",
    "source_label.pack()\n",
    "\n",
    "# Run Tkinter app\n",
    "window.mainloop()\n"
   ]
  },
  {
   "cell_type": "code",
   "execution_count": null,
   "id": "dd3bda4a",
   "metadata": {},
   "outputs": [],
   "source": []
  },
  {
   "cell_type": "code",
   "execution_count": null,
   "id": "ee13e286",
   "metadata": {},
   "outputs": [],
   "source": []
  },
  {
   "cell_type": "code",
   "execution_count": 1,
   "id": "3de130a9",
   "metadata": {},
   "outputs": [],
   "source": [
    "import tkinter as tk\n",
    "from PyPDF2 import PdfReader\n",
    "from langchain.embeddings.openai import OpenAIEmbeddings\n",
    "from langchain.text_splitter import CharacterTextSplitter\n",
    "from langchain.vectorstores import FAISS\n",
    "from langchain.chains.question_answering import load_qa_chain\n",
    "from langchain.llms import OpenAI\n",
    "from langchain.chains import RetrievalQA\n",
    "from langchain.document_loaders import UnstructuredPDFLoader\n",
    "from langchain.indexes.vectorstore import VectorstoreIndexCreator\n",
    "from dotenv import load_dotenv\n",
    "import os"
   ]
  },
  {
   "cell_type": "code",
   "execution_count": 18,
   "id": "71998b1f",
   "metadata": {},
   "outputs": [
    {
     "name": "stderr",
     "output_type": "stream",
     "text": [
      "detectron2 is not installed. Cannot use the hi_res partitioning strategy. Falling back to partitioning with the fast strategy.\n",
      "detectron2 is not installed. Cannot use the hi_res partitioning strategy. Falling back to partitioning with the fast strategy.\n",
      "detectron2 is not installed. Cannot use the hi_res partitioning strategy. Falling back to partitioning with the fast strategy.\n",
      "Using embedded DuckDB without persistence: data will be transient\n"
     ]
    },
    {
     "data": {
      "text/plain": [
       "{'question': 'What is Apache Spark',\n",
       " 'answer': ' Apache Spark is a unified computing engine and a set of libraries for parallel data processing on computer clusters. It supports multiple programming languages, includes libraries for diverse tasks, and runs on a laptop to a cluster of thousands of servers. It has APIs for working with structured data, such as DataFrames, machine learning pipelines, and Structured Streaming.\\n',\n",
       " 'sources': 'D:\\\\GenAI\\\\ChatGPT-Knowledge-Base\\\\pdf-books\\\\spark-guide.pdf'}"
      ]
     },
     "execution_count": 18,
     "metadata": {},
     "output_type": "execute_result"
    }
   ],
   "source": [
    "\n",
    "env_path = os.path.join(os.getcwd(), '.env')\n",
    "load_dotenv(dotenv_path=env_path)\n",
    "\n",
    "pdf_path = os.getenv('PDF_PATH_MULTIPLE')\n",
    "openai_api_key = os.getenv('OPENAI_API_KEY')\n",
    "model_name = os.getenv('MODEL_NAME')\n",
    "\n",
    "loaders = [UnstructuredPDFLoader(os.path.join(pdf_path, fn)) for fn in os.listdir(pdf_path)]\n",
    "\n",
    "index = VectorstoreIndexCreator().from_loaders(loaders)\n",
    "\n",
    "index.query_with_sources(\"What is Apache Spark\")"
   ]
  },
  {
   "cell_type": "code",
   "execution_count": 22,
   "id": "92d3730d",
   "metadata": {},
   "outputs": [
    {
     "ename": "TypeError",
     "evalue": "'VectorStoreIndexWrapper' object is not subscriptable",
     "output_type": "error",
     "traceback": [
      "\u001b[1;31m---------------------------------------------------------------------------\u001b[0m",
      "\u001b[1;31mTypeError\u001b[0m                                 Traceback (most recent call last)",
      "Cell \u001b[1;32mIn[22], line 1\u001b[0m\n\u001b[1;32m----> 1\u001b[0m \u001b[43mindex\u001b[49m\u001b[43m[\u001b[49m\u001b[38;5;124;43m'\u001b[39;49m\u001b[38;5;124;43mquestion\u001b[39;49m\u001b[38;5;124;43m'\u001b[39;49m\u001b[43m]\u001b[49m\n",
      "\u001b[1;31mTypeError\u001b[0m: 'VectorStoreIndexWrapper' object is not subscriptable"
     ]
    }
   ],
   "source": [
    "index['question']"
   ]
  },
  {
   "cell_type": "code",
   "execution_count": null,
   "id": "5fcda43d",
   "metadata": {},
   "outputs": [],
   "source": []
  },
  {
   "cell_type": "code",
   "execution_count": null,
   "id": "1655c97e",
   "metadata": {},
   "outputs": [],
   "source": []
  },
  {
   "cell_type": "code",
   "execution_count": 7,
   "id": "ac55d9f2",
   "metadata": {},
   "outputs": [
    {
     "data": {
      "text/plain": [
       "{'question': 'What is Apache Spark',\n",
       " 'answer': ' Apache Spark is a unified computing engine and a set of libraries for parallel data processing on computer clusters. It supports multiple programming languages, includes libraries for diverse tasks, and runs on a laptop to a cluster of thousands of servers. It has APIs for working with structured data, such as DataFrames, machine learning pipelines, and Structured Streaming.\\n',\n",
       " 'sources': 'D:\\\\GenAI\\\\ChatGPT-Knowledge-Base\\\\pdf-books\\\\spark-guide.pdf'}"
      ]
     },
     "execution_count": 7,
     "metadata": {},
     "output_type": "execute_result"
    }
   ],
   "source": []
  },
  {
   "cell_type": "code",
   "execution_count": 14,
   "id": "e8b5eb40",
   "metadata": {},
   "outputs": [
    {
     "data": {
      "text/plain": [
       "{'question': 'what are transformers and estimators',\n",
       " 'answer': ' Transformers are functions that convert raw data in some way, while estimators are necessary when a transformation must be initialized with data or information about the input column.\\n',\n",
       " 'sources': 'D:\\\\GenAI\\\\ChatGPT-Knowledge-Base\\\\pdf-books\\\\spark-guide.pdf'}"
      ]
     },
     "execution_count": 14,
     "metadata": {},
     "output_type": "execute_result"
    }
   ],
   "source": [
    "index.query_with_sources(\"what are transformers and estimators\")"
   ]
  },
  {
   "cell_type": "code",
   "execution_count": 15,
   "id": "246a1f8c",
   "metadata": {},
   "outputs": [
    {
     "data": {
      "text/plain": [
       "{'question': 'how is GPT-4 trained',\n",
       " 'answer': ' GPT-4 is trained using a massive curated corpus of assistant interactions including word problems, story descriptions, multi-turn dialogue, and code. It is trained using a dataset of roughly one million prompt-response pairs using the GPT-3.5-Turbo OpenAI API.\\n',\n",
       " 'sources': 'D:\\\\GenAI\\\\ChatGPT-Knowledge-Base\\\\pdf-books\\\\gpt-report.pdf'}"
      ]
     },
     "execution_count": 15,
     "metadata": {},
     "output_type": "execute_result"
    }
   ],
   "source": [
    "index.query_with_sources(\"how is GPT-4 trained\")"
   ]
  },
  {
   "cell_type": "code",
   "execution_count": 16,
   "id": "9d18ba30",
   "metadata": {},
   "outputs": [
    {
     "data": {
      "text/plain": [
       "{'question': 'what was the total cost to train the GPT-4 model',\n",
       " 'answer': ' The total cost to train the GPT-4 model was $800 in GPU costs and $500 in OpenAI API spend.\\n',\n",
       " 'sources': 'D:\\\\GenAI\\\\ChatGPT-Knowledge-Base\\\\pdf-books\\\\gpt-report.pdf'}"
      ]
     },
     "execution_count": 16,
     "metadata": {},
     "output_type": "execute_result"
    }
   ],
   "source": [
    "index.query_with_sources(\"what was the total cost to train the GPT-4 model\")"
   ]
  },
  {
   "cell_type": "code",
   "execution_count": 17,
   "id": "728d975a",
   "metadata": {},
   "outputs": [
    {
     "data": {
      "text/plain": [
       "{'question': 'who are the authors of GPT4All research paper',\n",
       " 'answer': ' The authors of the GPT4All research paper are Yuvanesh Anand, Zach Nussbaum, Brandon Duderstadt, Benjamin Schmidt, and Andriy Mulyar.\\n',\n",
       " 'sources': 'D:\\\\GenAI\\\\ChatGPT-Knowledge-Base\\\\pdf-books\\\\gpt-report.pdf'}"
      ]
     },
     "execution_count": 17,
     "metadata": {},
     "output_type": "execute_result"
    }
   ],
   "source": [
    "index.query_with_sources(\"who are the authors of GPT4All research paper\")"
   ]
  },
  {
   "cell_type": "code",
   "execution_count": null,
   "id": "f0d172fb",
   "metadata": {},
   "outputs": [],
   "source": []
  },
  {
   "cell_type": "code",
   "execution_count": null,
   "id": "47c7e952",
   "metadata": {},
   "outputs": [],
   "source": []
  },
  {
   "cell_type": "code",
   "execution_count": null,
   "id": "06627c1b",
   "metadata": {},
   "outputs": [],
   "source": []
  },
  {
   "cell_type": "code",
   "execution_count": null,
   "id": "049337ab",
   "metadata": {},
   "outputs": [],
   "source": [
    "pdf_folder_path = f'{}/data/'"
   ]
  },
  {
   "cell_type": "code",
   "execution_count": null,
   "id": "55b2d5c3",
   "metadata": {},
   "outputs": [],
   "source": [
    "\n",
    "\n",
    "env_path = os.path.join(os.getcwd(), '.env')\n",
    "load_dotenv(dotenv_path=env_path)\n",
    "\n",
    "pdf_path = os.getenv('PDF_PATH')\n",
    "openai_api_key = os.getenv('OPENAI_API_KEY')\n",
    "model_name = os.getenv('MODEL_NAME')\n",
    "\n",
    "# location of the pdf file/files. \n",
    "reader = PdfReader(pdf_path)\n",
    "\n",
    "# read data from the file and put them into a variable called raw_text\n",
    "raw_text = ''\n",
    "for i, page in enumerate(reader.pages):\n",
    "    text = page.extract_text()\n",
    "    if text:\n",
    "        raw_text += text\n",
    "\n",
    "# We need to split the text that we read into smaller chunks so that during information retreival we don't hit the token size limits. \n",
    "\n",
    "text_splitter = CharacterTextSplitter(        \n",
    "    separator = \"\\n\",\n",
    "    chunk_size = 1000,\n",
    "    chunk_overlap  = 200,\n",
    "    length_function = len,\n",
    ")\n",
    "texts = text_splitter.split_text(raw_text)\n",
    "\n",
    "# Download embeddings from OpenAI\n",
    "embeddings = OpenAIEmbeddings()\n",
    "\n",
    "docsearch = FAISS.from_texts(texts, embeddings)\n",
    "# expose this index in a retriever interface\n",
    "retriever = docsearch.as_retriever(search_type=\"similarity\", search_kwargs={\"k\":5})\n",
    "\n",
    "# create a chain to answer questions \n",
    "qa = RetrievalQA.from_chain_type(\n",
    "    llm=OpenAI(model_name=model_name), chain_type=\"stuff\", retriever=retriever, return_source_documents=True)"
   ]
  },
  {
   "cell_type": "code",
   "execution_count": null,
   "id": "f0cacebd",
   "metadata": {},
   "outputs": [],
   "source": [
    "query = \"what this book is about?\"\n",
    "result = qa({\"query\": query})['result']"
   ]
  },
  {
   "cell_type": "code",
   "execution_count": null,
   "id": "98c748be",
   "metadata": {},
   "outputs": [],
   "source": [
    "result"
   ]
  },
  {
   "cell_type": "code",
   "execution_count": null,
   "id": "383509cb",
   "metadata": {},
   "outputs": [],
   "source": []
  },
  {
   "cell_type": "code",
   "execution_count": null,
   "id": "bd3fb677",
   "metadata": {},
   "outputs": [],
   "source": []
  },
  {
   "cell_type": "code",
   "execution_count": null,
   "id": "6508da51",
   "metadata": {},
   "outputs": [],
   "source": []
  },
  {
   "cell_type": "code",
   "execution_count": null,
   "id": "18f60b32",
   "metadata": {},
   "outputs": [
    {
     "name": "stderr",
     "output_type": "stream",
     "text": [
      "D:\\GenAI\\ChatGPT-Knowledge-Base\\venv\\lib\\site-packages\\langchain\\llms\\openai.py:169: UserWarning: You are trying to use a chat model. This way of initializing it is no longer supported. Instead, please use: `from langchain.chat_models import ChatOpenAI`\n",
      "  warnings.warn(\n",
      "D:\\GenAI\\ChatGPT-Knowledge-Base\\venv\\lib\\site-packages\\langchain\\llms\\openai.py:682: UserWarning: You are trying to use a chat model. This way of initializing it is no longer supported. Instead, please use: `from langchain.chat_models import ChatOpenAI`\n",
      "  warnings.warn(\n"
     ]
    }
   ],
   "source": [
    "import tkinter as tk\n",
    "from PyPDF2 import PdfReader\n",
    "from langchain.embeddings.openai import OpenAIEmbeddings\n",
    "from langchain.text_splitter import CharacterTextSplitter\n",
    "from langchain.vectorstores import FAISS\n",
    "from langchain.chains.question_answering import load_qa_chain\n",
    "from langchain.llms import OpenAI\n",
    "from langchain.chains import RetrievalQA\n",
    "from dotenv import load_dotenv\n",
    "import os\n",
    "\n",
    "env_path = os.path.join(os.getcwd(), '.env')\n",
    "load_dotenv(dotenv_path=env_path)\n",
    "\n",
    "pdf_path = os.getenv('PDF_PATH_SINGLE')\n",
    "openai_api_key = os.getenv('OPENAI_API_KEY')\n",
    "model_name = os.getenv('MODEL_NAME')\n",
    "\n",
    "# location of the pdf file/files. \n",
    "reader = PdfReader(pdf_path)\n",
    "\n",
    "# read data from the file and put them into a variable called raw_text\n",
    "raw_text = ''\n",
    "for i, page in enumerate(reader.pages):\n",
    "    text = page.extract_text()\n",
    "    if text:\n",
    "        raw_text += text\n",
    "\n",
    "# We need to split the text that we read into smaller chunks so that during information retreival we don't hit the token size limits. \n",
    "\n",
    "text_splitter = CharacterTextSplitter(        \n",
    "    separator = \"\\n\",\n",
    "    chunk_size = 1000,\n",
    "    chunk_overlap  = 200,\n",
    "    length_function = len,\n",
    ")\n",
    "texts = text_splitter.split_text(raw_text)\n",
    "\n",
    "# Download embeddings from OpenAI\n",
    "embeddings = OpenAIEmbeddings()\n",
    "\n",
    "docsearch = FAISS.from_texts(texts, embeddings)\n",
    "# expose this index in a retriever interface\n",
    "retriever = docsearch.as_retriever(search_type=\"similarity\", search_kwargs={\"k\":5})\n",
    "\n",
    "# create a chain to answer questions \n",
    "qa = RetrievalQA.from_chain_type(\n",
    "    llm=OpenAI(model_name=model_name), chain_type=\"stuff\", retriever=retriever, return_source_documents=True)\n",
    "\n",
    "\n",
    "def ask_question():\n",
    "    query = question_entry.get()\n",
    "    result = qa({\"query\": query})\n",
    "    answer_text.delete(\"1.0\", tk.END)\n",
    "    answer_text.insert(tk.END, result['result'])\n",
    "\n",
    "# create a tkinter window\n",
    "window = tk.Tk()\n",
    "window.title(\"Question Answering App\")\n",
    "\n",
    "# create a label for the question\n",
    "question_label = tk.Label(window, text=\"Enter your question:\")\n",
    "question_label.pack()\n",
    "\n",
    "# create an entry field for the question\n",
    "question_entry = tk.Entry(window)\n",
    "question_entry.pack()\n",
    "\n",
    "# create a button to ask the question\n",
    "ask_button = tk.Button(window, text=\"Ask\", command=ask_question)\n",
    "ask_button.pack()\n",
    "\n",
    "# create a label for the answer\n",
    "answer_label = tk.Label(window, text=\"Answer:\")\n",
    "answer_label.pack()\n",
    "\n",
    "# create a text box to display the answer\n",
    "answer_text = tk.Text(window)\n",
    "answer_text.pack()\n",
    "\n",
    "# run the tkinter event loop\n",
    "window.mainloop()\n"
   ]
  },
  {
   "cell_type": "code",
   "execution_count": null,
   "id": "19c084da",
   "metadata": {},
   "outputs": [],
   "source": []
  }
 ],
 "metadata": {
  "kernelspec": {
   "display_name": "Python 3 (ipykernel)",
   "language": "python",
   "name": "python3"
  },
  "language_info": {
   "codemirror_mode": {
    "name": "ipython",
    "version": 3
   },
   "file_extension": ".py",
   "mimetype": "text/x-python",
   "name": "python",
   "nbconvert_exporter": "python",
   "pygments_lexer": "ipython3",
   "version": "3.10.10"
  }
 },
 "nbformat": 4,
 "nbformat_minor": 5
}
