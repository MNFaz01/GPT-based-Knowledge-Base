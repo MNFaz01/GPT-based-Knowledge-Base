{
 "cells": [
  {
   "cell_type": "code",
   "execution_count": 1,
   "id": "252b8ad7",
   "metadata": {},
   "outputs": [
    {
     "name": "stderr",
     "output_type": "stream",
     "text": [
      "detectron2 is not installed. Cannot use the hi_res partitioning strategy. Falling back to partitioning with the fast strategy.\n",
      "detectron2 is not installed. Cannot use the hi_res partitioning strategy. Falling back to partitioning with the fast strategy.\n",
      "Using embedded DuckDB without persistence: data will be transient\n"
     ]
    }
   ],
   "source": [
    "# Importing all the packages\n",
    "\n",
    "import os\n",
    "import tkinter as tk\n",
    "from PyPDF2 import PdfReader\n",
    "from langchain.embeddings.openai import OpenAIEmbeddings\n",
    "from langchain.text_splitter import CharacterTextSplitter\n",
    "from langchain.vectorstores import FAISS\n",
    "from langchain.llms import OpenAI\n",
    "from langchain.chains import RetrievalQA\n",
    "from langchain.document_loaders import UnstructuredPDFLoader\n",
    "from langchain.indexes.vectorstore import VectorstoreIndexCreator\n",
    "from dotenv import load_dotenv\n",
    "\n",
    "\n",
    "# Load environment variables\n",
    "env_path = os.path.join(os.getcwd(), '.env')\n",
    "load_dotenv(dotenv_path=env_path)\n",
    "\n",
    "pdf_path = os.getenv('PDF_PATH_MULTIPLE')\n",
    "openai_api_key = os.getenv('OPENAI_API_KEY')\n",
    "model_name = os.getenv('MODEL_NAME')\n",
    "\n",
    "# Create index from PDFs\n",
    "loaders = [UnstructuredPDFLoader(os.path.join(pdf_path, fn)) for fn in os.listdir(pdf_path)]\n",
    "index = VectorstoreIndexCreator().from_loaders(loaders)\n",
    "\n",
    "# Define function to handle question input and display answer and source\n",
    "def handle_question():\n",
    "    question = question_entry.get()\n",
    "    result = index.query_with_sources(question)\n",
    "    answer_label.config(text=f\"Answer: {result['answer']}\")\n",
    "    source_label.config(text=f\"Source: {result['sources']}\")\n",
    "\n",
    "# Create Tkinter app window\n",
    "window = tk.Tk()\n",
    "window.title('Question and Answer')\n",
    "window.geometry('500x300')\n",
    "\n",
    "# Create question input box\n",
    "question_label = tk.Label(window, text='Enter your question:')\n",
    "question_label.pack()\n",
    "question_entry = tk.Entry(window, width=80)\n",
    "question_entry.pack()\n",
    "\n",
    "# Create button to submit question\n",
    "submit_button = tk.Button(window, text='Submit', command=handle_question)\n",
    "submit_button.pack()\n",
    "\n",
    "# Create label to display answer\n",
    "answer_label = tk.Label(window, text='', wraplength=400)\n",
    "answer_label.pack()\n",
    "\n",
    "# Create label to display source\n",
    "source_label = tk.Label(window, text='')\n",
    "source_label.pack()\n",
    "\n",
    "# Run Tkinter app\n",
    "window.mainloop()\n"
   ]
  },
  {
   "cell_type": "code",
   "execution_count": null,
   "id": "40c308dd",
   "metadata": {},
   "outputs": [],
   "source": []
  }
 ],
 "metadata": {
  "kernelspec": {
   "display_name": "Python 3 (ipykernel)",
   "language": "python",
   "name": "python3"
  },
  "language_info": {
   "codemirror_mode": {
    "name": "ipython",
    "version": 3
   },
   "file_extension": ".py",
   "mimetype": "text/x-python",
   "name": "python",
   "nbconvert_exporter": "python",
   "pygments_lexer": "ipython3",
   "version": "3.10.10"
  }
 },
 "nbformat": 4,
 "nbformat_minor": 5
}
